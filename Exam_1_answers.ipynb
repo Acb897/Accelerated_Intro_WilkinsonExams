{
 "cells": [
  {
   "cell_type": "markdown",
   "metadata": {},
   "source": [
    "Student: Alberto Cámara Ballesteros"
   ]
  },
  {
   "cell_type": "markdown",
   "metadata": {},
   "source": [
    "**Problem 2 answer:**\n",
    "\n",
    "The function \"*ls*\" lists information about the contents of the current directory (for example, text files (.txt) or folders). As most functions, ls has some options that allow the user to modify the output called arguments. In this problem, I used the \"*-lh*\" arguments. The meaning of each is explained as follows:\n",
    "* *-l*: tells the ls function to output a long listing format, which includes more detailed information about each file. This information includes the permissions, ownership, size, last edition date and the name of the file, in that order.\n",
    "* *-h*: tells the ls function to output the size of each file in a human-friendly manner (i.e., instead of displaying the file size as the plain number of bytes it occupies (for example, the Exam Week 1.ipynb's size would appear as 5569 without this argument), it displays the number of Kilo-, Mega-, etc... bytes (whichever is applicable) (the previous example would therefore be displayed as 5.5K).\n",
    "\n",
    "The permissions of each file are displayed within the first three columns of the output. The first column corresponds to the permissions that the user who created the file (it's owner) has, the second column contains the permissions of all members of the group that owns the file, and finally the last column contains the permissions that everybody else has (i.e. all users other than the owner and members of the group that owns the file). The letters themselves represent a specific permission. So *\"r\"* means reading permission, *\"w\"* means writing permission and *\"x\"* means executing permission.\n",
    "\n",
    "Therefore, the permissions for the file \"Locus_Germplasm_Phenotype_20130122.txt\" are as follows:\n",
    "- The owner has reading and writting permissions (-rw).\n",
    "- The group has reading and writting permissions (-rw).\n",
    "- Anyone else only has reading permissions (r--).\n"
   ]
  },
  {
   "cell_type": "code",
   "execution_count": null,
   "metadata": {
    "scrolled": false
   },
   "outputs": [],
   "source": [
    "ls -lh"
   ]
  },
  {
   "cell_type": "markdown",
   "metadata": {},
   "source": [
    "**Problem 3 answer:**\n",
    "\n",
    "The \"*head*\" function outputs the first few lines of the specified file. By default, it outputs the first 10 lines, but since the problem asked only for the first one to be displayed, I had to pass the \"*-1*\" argument to the call to the \"*head*\" function. This argument specifies the amount of lines you want said function to output. "
   ]
  },
  {
   "cell_type": "code",
   "execution_count": null,
   "metadata": {},
   "outputs": [],
   "source": [
    "head -1 Locus_Germplasm_Phenotype_20130122.txt"
   ]
  },
  {
   "cell_type": "markdown",
   "metadata": {},
   "source": [
    "**Problem 4 answer:**\n",
    "\n",
    "The \"*wc*\" function outputs the word count for the specified document. If the *\"-l\"* argument is passed along with it, it instead displays the number of lines in the document.\n",
    "\n",
    "This document has 7216 lines."
   ]
  },
  {
   "cell_type": "code",
   "execution_count": null,
   "metadata": {},
   "outputs": [],
   "source": [
    "wc -l Locus_Germplasm_Phenotype_20130122.txt"
   ]
  },
  {
   "cell_type": "markdown",
   "metadata": {},
   "source": [
    "**Problem 5 answer:**\n",
    "\n",
    "The \"*tail*\" function can be thought of as the \"opposite\" of the *\"head\"* function, in that it outputs the **last** few lines of the specified document. The argument *\"-7215\"* works the same in both functions, specifying the amount of lines the user wants to be outputted. Since the problem asks for all lines except the first one, I passed the total amount of lines in the original document -1 to the *\"tail\"* function. \n",
    "The *\">\"* operand specifies that the user wants to send the \"Standard Out\" (stdout) data stream from the previous command to a file. What that means is that it makes the output of the command (that would normally be sent to the terminal window) be saved in a document. In this case, since I am only creating the \"Data_Only.csv\" and I want this command to be run as many times as necessary (so that other people can check if it does what is supposed to do), I used the \"destructive\" form of stdout redirection to a file (*\">\"*), meaning that it will overwrite the \"Data_Only.csv\" file each tme the command is run. \n",
    "Finally, I used the same function as in the last problem (Problem 4) to count the number of lines in the new document and check if it has the amount I expected (original amount -1)."
   ]
  },
  {
   "cell_type": "code",
   "execution_count": null,
   "metadata": {},
   "outputs": [],
   "source": [
    "tail -7215 Locus_Germplasm_Phenotype_20130122.txt > \"Data_Only.csv\"\n",
    "wc -l Data_Only.csv"
   ]
  },
  {
   "cell_type": "markdown",
   "metadata": {},
   "source": [
    "**Problem 6 answer:**\n",
    "\n",
    "The \"*grep*\" function searches for a text pattern in the specified file(s). By default, it outputs the whole lines where each match was found. Since this problem requested all the lines that have a phenotype including the word \"root\", I used the command found in the next markdown cell. The *\"-i\"* argument tells grep to be case insensitive, ignoring upper- and lowercases in its search (with this part, I make sure that \"Root\", \"root\", \"rOot\" and other combinations are matched in this search). Since it is not very clear if we should only search for the literal world \"root\" or any of its derivatives, I tried to be logical about it and thought that if you were looking for phenotypes of plants with affected roots, you would have to search for root and roots, maybe even rooted (but there are no instances of that last word in the document, so it is not necessary).\n",
    "\n",
    "Even though there is no problem that requires the full matches of grep, making it not necessary, I included a regular expression to show that the pattern includes an optional (the \"?\" part of the pattern indicates the optionality of the previous character) \"s\" at the end, just for clarity's sake (it is personal preference, just to make the code easier to understand). Even though the brackets (\"[ ]\") that surround the \"s\" are not necessary, I included them for the same reason as before: clarity and making code easier to understand at first glance. \n",
    "\n",
    "Since I'm using extended regular expressions (the \"?\" part makes it extended), the *\"-E\"* argument is necessary for the command to function properly.\n",
    "\n",
    "(just to be sure that all of these optional arguments output the same results as if they weren't there, I checked the line number of the output of the grep command with and without them through a pipe (\"| wc -l\") and in all cases the result is the same, 857). \n",
    "\n",
    "Since at first glance there isn't any instance of the word root anywhere that isn't the phenotype description, I decided there was no need to add further checks to see if the word appears in that column or not."
   ]
  },
  {
   "cell_type": "code",
   "execution_count": null,
   "metadata": {
    "scrolled": true
   },
   "outputs": [],
   "source": [
    "grep -E -i \"Root[s]?\" Data_Only.csv"
   ]
  },
  {
   "cell_type": "markdown",
   "metadata": {},
   "source": [
    "**Problem 7 answer:**\n",
    "\n",
    "Since this problem builds up from the last one (in that it also requires phenotypes with affected roots to be searched), I used the exact same command to search for all the lines with a phenotype including the word \"root\". The second part of the command is another grep statement, but this time it is searching for the AGI Locus codes as they are described at the beginning of the exam document. \n",
    "\n",
    "This grep command has new arguments and extended regular expression \"characters\" that will be explained in the following lines in order of appearance:\n",
    "\n",
    "* \"*-o*\" : this argument tells the \"*grep*\" function to only output the matches themselves, not the whole line they appear in. I used this because the problem requires only the AGI locus codes to be saved in the file. \n",
    "* ^ : this symbol makes the pattern only matchable by \"*grep*\" if it is at the beginning of a line. This is introduced so that phenotype descriptions where other genes' codes are mentioned, as I only want to match the AGI codes in the first column!. Also, since it only matches patterns that are at the beginning of a line (corresponding to the first column, where the codes I'm after are), it ensures that other matching patterns that might appear in unsuspected sections of the document are not picked up by this statement. \n",
    "* *{}* : the curly brackets mean that the number inside them is the number of times the previous character must be repeated for it to match the pattern. in this case it's used because the end of the AGI codes must contain 5 digits (the *[0-9]* before the curly brackets means that the range inside of the normal brackets is to be considered in the search).\n",
    "* \"*-v*\" : this argument tells the \"*grep*\" function to output the non-matching lines instead of the matching ones. \n",
    "\n",
    "I used a pipe (\"|\") to send the stdout (previously explained in Problem 5) of the first \"*grep*\" statement to the \"Standard input\" (stdin) from the second statement. What this does is send the \"output\" of the first grep to the second one, so the second grep function searches the results of the previous one. I also used a \"*>*\" symbol to save the output of the last grep statement to a file named \"Root-associated-Loci.txt\" as explained in Problem 5.\n",
    "\n",
    "Since the number of lines that the output file (\"Root-associated-Loci.txt\") were different from what I had expected (I expected the number of lines in the output file to be the same as the number of lines that had \"root\" on their phenotype description), I used the previously described \"*-v*\" argument to save the lines that did not begin with a AGI code to a text document called \"Root-associated-Loci.inv.txt\" for further inspection. \n",
    "After looking at said file, I discovered that there are 17 lines that don't begin with the expected AGI code, but with what appears to be abbreviated gene names (for example, \"CUD\", \"DER2\", \"LIT\" etc...)."
   ]
  },
  {
   "cell_type": "code",
   "execution_count": null,
   "metadata": {
    "scrolled": true
   },
   "outputs": [],
   "source": [
    "grep -E -i \"Root[s]?\" Data_Only.csv | grep -E -io \"^AT[1-5]G[0-9]{5}\"> Root-associated-Loci.txt\n",
    "grep -E -i \"Root[s]?\" Data_Only.csv | grep -E -iv \"^AT[1-5]G[0-9]{5}\"> Root-associated-Loci_inv.txt"
   ]
  },
  {
   "cell_type": "markdown",
   "metadata": {},
   "source": [
    "**Problem 8 answer:**\n",
    "\n",
    "This problem is very similar to the last one, but introduces new \"characters\" that will be explained in the following lines in order of appearance:\n",
    "* \"+\" : since the PubMed IDs have varying lenghts, and so a range of those lenghts is unpredictable, I used the *+* extended regular expression. This symbol means that the previous character can appear one or more times in the final match, so in this case it's basically saying \"search for a set of one or more digits\".\n",
    "* $ : this symbol means that the pattern will only be matched if it's at the end of a line. This way I can be sure that only codes that match this pattern and are at the last column, where the PubMed IDs are supposed to be.\n",
    "\n",
    "Since the number of lines that the outuput file (\"Root-associated-Publications.txt\") doesn't match what I had expected (I expected each germplasm to have a PubMed publication ID), I used the previously described \"*-v*\" argument to check what the problem could be.\n",
    "\n",
    "After checking the output file, I noticed that my assumptions were incorrect, as some germplasms don't have any PubMed ID linked to them (for example, AT1G27320), be it because the phenotype presents normal roots or maybe the data has not been included in the database. I also noticed the presence of some formatting errors, like the one happening in AT1G26630: the PubMed ID is on a different line, instead of in the same lane as the germplasm they refer to. This causes the previous methods for extracting the contents of said lines to fail to get all the information."
   ]
  },
  {
   "cell_type": "code",
   "execution_count": null,
   "metadata": {},
   "outputs": [],
   "source": [
    "grep -E -i \"Root[s]?\" Data_Only.csv | grep -E -io \"[0-9]+$\" > Root-associated-Publications.txt\n",
    "grep -E -i \"Root[s]?\" Data_Only.csv | grep -E -iv \"[0-9]+$\" > Root-associated-Publications_inv.txt"
   ]
  },
  {
   "cell_type": "markdown",
   "metadata": {},
   "source": [
    "**Problem 9 answer:**\n",
    "\n",
    "To find if the hypothesis is correct, I created the following lines of code.\n",
    "The \"*echo*\" function displays a line of text on screen, so I used it as a way to indicate which chromosome would be searched for in the next line. \n",
    "All the grep statements are similar. Each one searches for a chromosome (the 3rd character in each AGI Locus Code represents the chromosome said code belongs to) and displays the amount of times said chromosome appears in the \"Root-associated-Loci.txt\" file.\n",
    "This is possible thanks to the \"*-c*\" argument that I passed in each grep statement. I looked at the grep manual and found this useful argument. What it does is make grep count the amount of times a pattern is matched in the document and output that number. That means that, for example, there are 239 AGI codes that affect the radicular sistem (or not, I mean that the word \"root\" appears in the Phenotype description column) that appear in the chromosome number 5. \n",
    "\n",
    "Looking at the output of the following code, we can see that there are, in fact, multiple genes associated with roots in each chromosome, so the original hypothesis is true. \n",
    "\n",
    "As a minor check, if we sum the amount of AGI codes in each chromosome, we get 840, the same amount of AGI codes found in problem 7. "
   ]
  },
  {
   "cell_type": "code",
   "execution_count": null,
   "metadata": {},
   "outputs": [],
   "source": [
    "echo \"Number of AGI codes in chromosome 1: \"\n",
    "grep -E -ic \"^AT1G[0-9]{5}\" Root-associated-Loci.txt\n",
    "echo \"Number of AGI codes in chromosome 2: \"\n",
    "grep -E -ic \"^AT2G[0-9]{5}\" Root-associated-Loci.txt\n",
    "echo \"Number of AGI codes in chromosome 3: \"\n",
    "grep -E -ic \"^AT3G[0-9]{5}\" Root-associated-Loci.txt\n",
    "echo \"Number of AGI codes in chromosome 4: \"\n",
    "grep -E -ic \"^AT4G[0-9]{5}\" Root-associated-Loci.txt\n",
    "echo \"Number of AGI codes in chromosome 5: \"\n",
    "grep -E -ic \"^AT5G[0-9]{5}\" Root-associated-Loci.txt"
   ]
  },
  {
   "cell_type": "markdown",
   "metadata": {},
   "source": [
    "Problem 10 answer:"
   ]
  },
  {
   "cell_type": "code",
   "execution_count": null,
   "metadata": {},
   "outputs": [],
   "source": []
  }
 ],
 "metadata": {
  "kernelspec": {
   "display_name": "Bash",
   "language": "bash",
   "name": "bash"
  },
  "language_info": {
   "codemirror_mode": "shell",
   "file_extension": ".sh",
   "mimetype": "text/x-sh",
   "name": "bash"
  }
 },
 "nbformat": 4,
 "nbformat_minor": 2
}
